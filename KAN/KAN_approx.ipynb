{
 "cells": [
  {
   "cell_type": "code",
   "execution_count": null,
   "id": "8d3b21b9",
   "metadata": {},
   "outputs": [
    {
     "name": "stderr",
     "output_type": "stream",
     "text": [
      "train loss: 5.06e-01 | test loss: 4.92e-01 | reg: 1.34e+01 :   6%|  | 6/100 [01:05<16:31, 10.54s/it]"
     ]
    }
   ],
   "source": [
    "import numpy as np\n",
    "import torch\n",
    "from kan import KAN, create_dataset\n",
    "import matplotlib.pyplot as plt\n",
    "\n",
    "# Define the target function\n",
    "def target_function(x, y):\n",
    "    #navier-stocks simplified\n",
    "    return np.sin(x) * np.cos(y) #+ np.log(1 + x**2 + y**2)\n",
    "\n",
    "# Generate training data\n",
    "x = np.linspace(-3, 3, 100)\n",
    "y = np.linspace(-3, 3, 100)\n",
    "X, Y = np.meshgrid(x, y)\n",
    "Z = target_function(X, Y)\n",
    "\n",
    "# Flatten the data for training\n",
    "X_train = np.vstack([X.ravel(), Y.ravel()]).T\n",
    "Y_train = Z.ravel()\n",
    "\n",
    "# Convert data to PyTorch tensors\n",
    "X_train_tensor = torch.tensor(X_train, dtype=torch.float32)\n",
    "Y_train_tensor = torch.tensor(Y_train, dtype=torch.float32).unsqueeze(1)\n",
    "\n",
    "# Create dataset for KAN\n",
    "dataset = create_dataset(lambda x: target_function(x[:, 0], x[:, 1]), n_var=2,    train_num=10000,\n",
    "    test_num=1000,\n",
    "    ranges=[(-5, 5), (-5, 5)])\n",
    "\n",
    "# Initialize the KAN\n",
    "kan = KAN(width=[2, 10, 1], grid=20, k=3, noise_scale=0.1, seed=0)\n",
    "\n",
    "# Train the KAN\n",
    "kan.train(dataset, opt='LBFGS', steps=100, lamb=0.01)\n",
    "\n",
    "# Evaluate the KAN\n",
    "#kan.eval()\n",
    "with torch.no_grad():\n",
    "    predictions = kan(X_train_tensor).numpy()\n",
    "\n",
    "# Reshape predictions for visualization\n",
    "Z_pred = predictions.reshape(X.shape)\n",
    "\n",
    "# Plot the results\n",
    "fig = plt.figure(figsize=(12, 6))\n",
    "ax1 = fig.add_subplot(121, projection='3d')\n",
    "ax1.plot_surface(X, Y, Z, cmap='viridis')\n",
    "ax1.set_title('Original Function')\n",
    "\n",
    "ax2 = fig.add_subplot(122, projection='3d')\n",
    "ax2.plot_surface(X, Y, Z_pred, cmap='viridis')\n",
    "ax2.set_title('KAN Approximation')\n",
    "\n",
    "plt.show()"
   ]
  },
  {
   "cell_type": "code",
   "execution_count": null,
   "id": "926cb52d",
   "metadata": {},
   "outputs": [],
   "source": []
  }
 ],
 "metadata": {
  "kernelspec": {
   "display_name": "pykan",
   "language": "python",
   "name": "pykan-env"
  },
  "language_info": {
   "codemirror_mode": {
    "name": "ipython",
    "version": 3
   },
   "file_extension": ".py",
   "mimetype": "text/x-python",
   "name": "python",
   "nbconvert_exporter": "python",
   "pygments_lexer": "ipython3",
   "version": "3.9.7"
  }
 },
 "nbformat": 4,
 "nbformat_minor": 5
}
